{
 "cells": [
  {
   "cell_type": "code",
   "execution_count": 27,
   "metadata": {
    "collapsed": false,
    "deletable": true,
    "editable": true
   },
   "outputs": [],
   "source": [
    "import numpy as np \n",
    "import pandas as pd \n",
    "from IPython.display import Image\n",
    "import matplotlib.pyplot as plt"
   ]
  },
  {
   "cell_type": "code",
   "execution_count": 41,
   "metadata": {
    "collapsed": true,
    "deletable": true,
    "editable": true
   },
   "outputs": [],
   "source": [
    "mobile_data = pd.read_csv(\"UCI_Credit_Card.csv\")"
   ]
  },
  {
   "cell_type": "code",
   "execution_count": 42,
   "metadata": {
    "collapsed": false,
    "deletable": true,
    "editable": true
   },
   "outputs": [
    {
     "name": "stdout",
     "output_type": "stream",
     "text": [
      "   LIMIT_BAL  SEX  EDUCATION  MARRIAGE  AGE  PAY_0  PAY_2  PAY_3  PAY_4  \\\n",
      "0    20000.0    2          2         1   24      2      2     -1     -1   \n",
      "1   120000.0    2          2         2   26     -1      2      0      0   \n",
      "2    90000.0    2          2         2   34      0      0      0      0   \n",
      "3    50000.0    2          2         1   37      0      0      0      0   \n",
      "4    50000.0    1          2         1   57     -1      0     -1      0   \n",
      "\n",
      "   PAY_5   ...    BILL_AMT6  PAY_AMT1  PAY_AMT2  PAY_AMT3  PAY_AMT4  PAY_AMT5  \\\n",
      "0     -2   ...          0.0       0.0     689.0       0.0       0.0       0.0   \n",
      "1      0   ...       3261.0       0.0    1000.0    1000.0    1000.0       0.0   \n",
      "2      0   ...      15549.0    1518.0    1500.0    1000.0    1000.0    1000.0   \n",
      "3      0   ...      29547.0    2000.0    2019.0    1200.0    1100.0    1069.0   \n",
      "4      0   ...      19131.0    2000.0   36681.0   10000.0    9000.0     689.0   \n",
      "\n",
      "   PAY_AMT6  default.payment.next.month  paid  unpaid  \n",
      "0       0.0                           1     1       0  \n",
      "1    2000.0                           1     1       0  \n",
      "2    5000.0                           0     0       1  \n",
      "3    1000.0                           0     0       1  \n",
      "4     679.0                           0     0       1  \n",
      "\n",
      "[5 rows x 26 columns]\n",
      "   LIMIT_BAL  SEX  EDUCATION  MARRIAGE  AGE  PAY_0  PAY_2  PAY_3  PAY_4  \\\n",
      "0    20000.0    2          2         1   24      2      2     -1     -1   \n",
      "1   120000.0    2          2         2   26     -1      2      0      0   \n",
      "2    90000.0    2          2         2   34      0      0      0      0   \n",
      "3    50000.0    2          2         1   37      0      0      0      0   \n",
      "4    50000.0    1          2         1   57     -1      0     -1      0   \n",
      "\n",
      "   PAY_5   ...    BILL_AMT5  BILL_AMT6  PAY_AMT1  PAY_AMT2  PAY_AMT3  \\\n",
      "0     -2   ...          0.0        0.0       0.0     689.0       0.0   \n",
      "1      0   ...       3455.0     3261.0       0.0    1000.0    1000.0   \n",
      "2      0   ...      14948.0    15549.0    1518.0    1500.0    1000.0   \n",
      "3      0   ...      28959.0    29547.0    2000.0    2019.0    1200.0   \n",
      "4      0   ...      19146.0    19131.0    2000.0   36681.0   10000.0   \n",
      "\n",
      "   PAY_AMT4  PAY_AMT5  PAY_AMT6  paid  unpaid  \n",
      "0       0.0       0.0       0.0     1       0  \n",
      "1    1000.0       0.0    2000.0     1       0  \n",
      "2    1000.0    1000.0    5000.0     0       1  \n",
      "3    1100.0    1069.0    1000.0     0       1  \n",
      "4    9000.0     689.0     679.0     0       1  \n",
      "\n",
      "[5 rows x 25 columns]\n"
     ]
    }
   ],
   "source": [
    "def label_paid(row):\n",
    "    if row['default.payment.next.month'] == 1:\n",
    "      return 1\n",
    "    return 0\n",
    "\n",
    "mobile_data['paid'] = mobile_data.apply(lambda row: label_race (row),axis=1)\n",
    "mobile_data['unpaid'] = mobile_data.apply(lambda row: abs(1-label_race (row)),axis=1)\n",
    "print(mobile_data.head())\n",
    "mobile_data = mobile_data.drop(columns=['default.payment.next.month'])\n",
    "print(mobile_data.head())\n",
    "\n",
    "temp_df = mobile_data.sample(n=2000, replace=True)\n",
    "mobile_data = temp_df"
   ]
  },
  {
   "cell_type": "code",
   "execution_count": 43,
   "metadata": {
    "collapsed": false,
    "deletable": true,
    "editable": true
   },
   "outputs": [],
   "source": [
    "x = mobile_data.values #returns a numpy array\n",
    "\n",
    "from sklearn import preprocessing\n",
    "min_max_scaler = preprocessing.MinMaxScaler()\n",
    "x_scaled = min_max_scaler.fit_transform(mobile_data)\n",
    "df = pd.DataFrame(x_scaled)\n",
    "\n",
    "from sklearn.model_selection import train_test_split\n",
    "m_data_train, m_data_test = train_test_split(df, test_size=0.3)"
   ]
  },
  {
   "cell_type": "code",
   "execution_count": 44,
   "metadata": {
    "collapsed": false,
    "deletable": true,
    "editable": true
   },
   "outputs": [
    {
     "name": "stdout",
     "output_type": "stream",
     "text": [
      "(1400, 25)\n",
      "(600, 25)\n"
     ]
    }
   ],
   "source": [
    "print(m_data_train.shape)\n",
    "print(m_data_test.shape)"
   ]
  },
  {
   "cell_type": "code",
   "execution_count": 45,
   "metadata": {
    "collapsed": true,
    "deletable": true,
    "editable": true
   },
   "outputs": [],
   "source": [
    "m_data_train.to_csv(\"data/train_credit.csv\", header=False, index=False)\n",
    "m_data_test.to_csv(\"data/test_credit.csv\", header=False, index=False)"
   ]
  },
  {
   "cell_type": "code",
   "execution_count": null,
   "metadata": {
    "collapsed": true,
    "deletable": true,
    "editable": true
   },
   "outputs": [],
   "source": []
  }
 ],
 "metadata": {
  "kernelspec": {
   "display_name": "Python 3",
   "language": "python",
   "name": "python3"
  },
  "language_info": {
   "codemirror_mode": {
    "name": "ipython",
    "version": 3
   },
   "file_extension": ".py",
   "mimetype": "text/x-python",
   "name": "python",
   "nbconvert_exporter": "python",
   "pygments_lexer": "ipython3",
   "version": "3.5.2"
  }
 },
 "nbformat": 4,
 "nbformat_minor": 2
}
